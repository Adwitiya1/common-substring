[InternetShortcut]
URL=http://localhost:8888/notebooks/Desktop/Complete-Python-3-Bootcamp-master/ass%201%20zelthy-Copy1.ipynb
